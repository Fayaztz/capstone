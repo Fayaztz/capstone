{
    "cells": [
        {
            "metadata": {},
            "cell_type": "markdown",
            "source": "<center>\n    <img src=\"https://gitlab.com/ibm/skills-network/courses/placeholder101/-/raw/master/labs/module%201/images/IDSNlogo.png\" width=\"300\" alt=\"cognitiveclass.ai logo\"  />\n</center>\n"
        },
        {
            "metadata": {},
            "cell_type": "markdown",
            "source": "# **Exploratory Data Analysis Lab**\n"
        },
        {
            "metadata": {},
            "cell_type": "markdown",
            "source": "Estimated time needed: **30** minutes\n"
        },
        {
            "metadata": {},
            "cell_type": "markdown",
            "source": "In this module you get to work with the cleaned dataset from the previous module.\n\nIn this assignment you will perform the task of exploratory data analysis.\nYou will find out the distribution of data, presence of outliers and also determine the correlation between different columns in the dataset.\n"
        },
        {
            "metadata": {},
            "cell_type": "markdown",
            "source": "## Objectives\n"
        },
        {
            "metadata": {},
            "cell_type": "markdown",
            "source": "In this lab you will perform the following:\n"
        },
        {
            "metadata": {},
            "cell_type": "markdown",
            "source": "-   Identify the distribution of data in the dataset.\n\n-   Identify outliers in the dataset.\n\n-   Remove outliers from the dataset.\n\n-   Identify correlation between features in the dataset.\n"
        },
        {
            "metadata": {},
            "cell_type": "markdown",
            "source": "* * *\n"
        },
        {
            "metadata": {},
            "cell_type": "markdown",
            "source": "## Hands on Lab\n"
        },
        {
            "metadata": {},
            "cell_type": "markdown",
            "source": "Import the pandas module.\n"
        },
        {
            "metadata": {},
            "cell_type": "code",
            "source": "import pandas as pd",
            "execution_count": 1,
            "outputs": []
        },
        {
            "metadata": {},
            "cell_type": "markdown",
            "source": "Load the dataset into a dataframe.\n"
        },
        {
            "metadata": {},
            "cell_type": "code",
            "source": "df = pd.read_csv(\"https://cf-courses-data.s3.us.cloud-object-storage.appdomain.cloud/IBM-DA0321EN-SkillsNetwork/LargeData/m2_survey_data.csv\")",
            "execution_count": 2,
            "outputs": []
        },
